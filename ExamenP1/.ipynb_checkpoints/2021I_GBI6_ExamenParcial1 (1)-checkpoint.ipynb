{
 "cells": [
  {
   "cell_type": "markdown",
   "metadata": {},
   "source": [
    "<img src=\"https://www.ikiam.edu.ec/img/logo-ikiam-grey.png\" width=300 height=240 />\n",
    "\n",
    "# EXAMEN PARCIAL 1\n",
    "\n",
    "## GBI6-2021II: BIOINFORMÁTICA\n",
    "\n",
    "**Gaibor Cobos, Mathew Sebastian** <--- CAMBIE POR LOS QUE CORRESPONDA A SUS DATOS\n",
    "\n",
    "**11-01-2021**"
   ]
  },
  {
   "cell_type": "markdown",
   "metadata": {},
   "source": [
    "<font color='red'>NO AGREGUE NUEVAS CELDAS, UTILICE ÚNICAMENTE LAS QUE ESTÁN CREADAS</font>"
   ]
  },
  {
   "cell_type": "markdown",
   "metadata": {},
   "source": [
    "# 1. UNIX\n",
    "\n",
    "## Ejercicio 1\n",
    "imprimir el directorio de trabajo actual \n",
    "Crear un directorio test1\n",
    "No cambie de directorio, pero los items 4, 5 y 6 deben guardarse en el directorio creado en el paso 2. \n",
    "Crear el archivo test1.txt\n",
    "Guardar el texto Hola GBI6 en un archivo test2.txt\n",
    "Guardar la instrucción print(\"Hola GBI6\")  en el archivo test1.py\n",
    "Luego seleccione la instrucción que copie test2.txt al directorio test2/subtest1 y después borre el directorio test1.\n",
    "\n",
    "<img src=\"data/cap1.png\" width=600 height=450 />\n",
    "\n",
    "<img src=\"data/cap 2.png\" width=600 height=450 />\n",
    "\n",
    "Escriba aquí alguna explicación del ejercicio 1 si lo considera necesario (borre esta línea cuando finalice)\n",
    "\n",
    "## Ejercicio 2\n",
    "Para esta pregunta debe realizar previamente lo siguiente: \n",
    "Imprimir el directorio de trabajo actual \n",
    "Crear un directorio test1\n",
    "No cambie de directorio, pero los items 4, 5 y 6 deben guardarse en el directorio creado en el paso 2. \n",
    "Crear el archivo test1.txt\n",
    "Guardar el texto Hola GBI6 en un archivo test2.txt\n",
    "Guardar la instrucción print(\"Hola GBI6\")  en el archivo test1.py\n",
    "Luego seleccione la instrucción que imprima el número de caracteres de test2.txt\n",
    "\n",
    "<img src=\"data/cap 2.png\" width=600 height=450 />\n",
    "\n",
    "Escriba aquí alguna explicación del ejercicio 2 si lo considera necesario (borre esta línea cuando finalice)\n",
    "\n",
    "## Ejercicio 3\n",
    " Para esta pregunta debe realizar previamente lo siguiente: \n",
    " Imprimir el directorio de trabajo actual \n",
    " Crear un directorio test1\n",
    " No cambie de directorio, pero los items 4, 5 y 6 deben guardarse en el directorio creado en el paso 2. \n",
    " Crear el archivo test1.txt\n",
    " Guardar el texto Hola GBI6 en un archivo test2.txt\n",
    " Guardar la instrucción print(\"Hola GBI6\")  en el archivo test1.py\n",
    " Luego seleccione la instrucción que enlista los archivos del directorio test1 y luego borra test1.py del directorio test1\n",
    "\n",
    "<img src=\"data/ejercicio 3.png\" width=600 height=450 />\n",
    "\n",
    "Escriba aquí alguna explicación del ejercicio 3 si lo considera necesario (borre esta línea cuando finalice)\n",
    "\n",
    "## Ejercicio 4\n",
    "Escriba aquí el enunciado\n"
   ]
  },
  {
   "cell_type": "code",
   "execution_count": 6,
   "metadata": {},
   "outputs": [
    {
     "data": {
      "text/html": [
       "<iframe width=\"560\" height=\"315\" src=\"https://www.youtube.com/embed/ye0wQPSJkuE\" title=\"YouTube video player\" frameborder=\"0\" allow=\"accelerometer; autoplay; clipboard-write; encrypted-media; gyroscope; picture-in-picture\" allowfullscreen></iframe>"
      ],
      "text/plain": [
       "<IPython.core.display.HTML object>"
      ]
     },
     "execution_count": 6,
     "metadata": {},
     "output_type": "execute_result"
    }
   ],
   "source": [
    "# Coloque aquí su video del ejercicio 4\n",
    "from IPython.display import HTML\n",
    "HTML('<iframe width=\"560\" height=\"315\" src=\"https://www.youtube.com/embed/ye0wQPSJkuE\" title=\"YouTube video player\" frameborder=\"0\" allow=\"accelerometer; autoplay; clipboard-write; encrypted-media; gyroscope; picture-in-picture\" allowfullscreen></iframe>')\n"
   ]
  },
  {
   "cell_type": "markdown",
   "metadata": {},
   "source": [
    "Escriba aquí alguna explicación del ejercicio 4 si lo considera necesario (borre esta línea cuando finalice)\n",
    "\n",
    "## Ejercicio 5\n",
    "Escriba aquí el enunciado\n"
   ]
  },
  {
   "cell_type": "code",
   "execution_count": 5,
   "metadata": {},
   "outputs": [
    {
     "data": {
      "text/html": [
       "<iframe width=\"560\" height=\"315\" src=\"https://www.youtube.com/embed/eMbLzt6WXHs\" title=\"YouTube video player\" frameborder=\"0\" allow=\"accelerometer; autoplay; clipboard-write; encrypted-media; gyroscope; picture-in-picture\" allowfullscreen></iframe>"
      ],
      "text/plain": [
       "<IPython.core.display.HTML object>"
      ]
     },
     "execution_count": 5,
     "metadata": {},
     "output_type": "execute_result"
    }
   ],
   "source": [
    "# Coloque aquí su video del ejercicio 5\n",
    "from IPython.display import HTML\n",
    "HTML('<iframe width=\"560\" height=\"315\" src=\"https://www.youtube.com/embed/eMbLzt6WXHs\" title=\"YouTube video player\" frameborder=\"0\" allow=\"accelerometer; autoplay; clipboard-write; encrypted-media; gyroscope; picture-in-picture\" allowfullscreen></iframe>')\n"
   ]
  },
  {
   "cell_type": "markdown",
   "metadata": {
    "jp-MarkdownHeadingCollapsed": true,
    "tags": []
   },
   "source": [
    "Escriba aquí alguna explicación del ejercicio 5 si lo considera necesario (borre esta línea cuando finalice)\n",
    "\n",
    "# 2. CONTROL DE LA VERSIÓN\n",
    "## Pregunta 6\n",
    "1. Cree en GitHub un repositorio de nombre ```GBI6_ExamenParcial1```. \n",
    "2. Cree un archivo ```Readme.md``` que debe tener lo siguiente: \n",
    "- Datos personales\n",
    "- Características del computador\n",
    "- Programas utilizados\n",
    "- Explicación de la data utilizada\n",
    "\n",
    "\n",
    "## Pregunta 7\n",
    "1. Cada vez que resuelva un ejercicio (del 1 al 10), utilizando Git Bash, GitHub Desktop o Atom realice un *git push* con el mensaje: \n",
    "\n",
    "en este caso yo hice un git push con todas las fotos de los ejercicios 1 2 3 \n",
    "\n",
    "\n",
    "<font color='red'>Apellido Nombre ha resuelto el ejercicio 1</font> % Cambie con sus apellidos y nombres; y con el número de ejercicio que corresponda \n",
    "\n",
    "2. Coloque aquí las capturas de pantalla para cada git push realizado desde Git Bash, GitHub Desktop o Atom. \n",
    "\n",
    "<img src=\"data/gitpush123.png\" width=600 height=450 />\n",
    "\n",
    "- Control de versión ejercicio 4\n",
    "\n",
    "<img src=\"data/gitpushej4.png\" width=600 height=450 />\n",
    "\n",
    "- Control de versión ejercicio 5\n",
    "no saque foto pero adjunto el git status y el ls para demostrar que se encuentra subido\n",
    "\n",
    "<img src=\"data/gitpush5.png\" width=600 height=450 />\n",
    "\n",
    "- Control de versión ejercicio 8\n",
    "\n",
    "<img src=\"data/ejemplo_unix.jpg\" width=600 height=450 />\n",
    "\n",
    "- Control de versión ejercicio 9\n",
    "\n",
    "<img src=\"data/ejemplo_unix.jpg\" width=600 height=450 />\n",
    "\n",
    "- Control de versión ejercicio 10\n",
    "\n",
    "<img src=\"data/ejemplo_unix.jpg\" width=600 height=450 />\n",
    "\n",
    "\n",
    "3. Cree un directorio de nombre ```data``` donde deben estar guardados: (i) la data utilizada y (ii) las capturas de pantalla de los ejercicios 1 al 3 y los git push del ejercicio 1 al 10 (en total debe tener 13 imágenes). \n",
    "4. Inserte aquí el enlace de su repositorio (válido para el ejercicio 6 y 7): [GitHub Repository: GBI6_ExamenParcial1](https://github.com/gualapuromoises/2021_gbi6.git) (este enlace es de ejemplo)"
   ]
  },
  {
   "cell_type": "markdown",
   "metadata": {},
   "source": [
    "# 3. INTRODUCCIÓN A PYTHON\n",
    "\n",
    "## Ejercicio 8\n",
    "\n",
    "Para este ejercicio tiene que crear previamente lo siguiente: \n",
    "\n",
    "En la data https://github.com/sap0408/mtcars/blob/master/mtcars.csv, seleccione los 10 primeros registros y cree una lista de nombre lista1.\n",
    "\n",
    "Relaciones los códigos y las respuestas que salen al ejecutar.\n",
    "\n",
    "Para este ejercicio yo lo programe desde python en un bloc de notas adjunto el codigo que utilice y las screenshots del ejercicio se encuentra en el git hub. Despues vi que habia como ingreasar las tablas de manera manual. sin embargo solo busque como importar un csv lo unico que cambie fue el el row = lista1 como se pedia y el print para que cada vez que vaya probando el codigo del ejercicio se pueda cambiar sin embargo yo tenia el error de que yo debia tomar en cuenta una fila más que me tomaba la clasificacion como 1 extra y no me salia la respuesta entonces solo me toco sumar 1+ por cada fila o celda que me pedia el ejercicio"
   ]
  },
  {
   "cell_type": "code",
   "execution_count": 7,
   "metadata": {},
   "outputs": [
    {
     "ename": "IndentationError",
     "evalue": "expected an indented block (<ipython-input-7-ffe4b7c13e6f>, line 13)",
     "output_type": "error",
     "traceback": [
      "\u001b[1;36m  File \u001b[1;32m\"<ipython-input-7-ffe4b7c13e6f>\"\u001b[1;36m, line \u001b[1;32m13\u001b[0m\n\u001b[1;33m    file_read = csv.reader(file_name)\u001b[0m\n\u001b[1;37m    ^\u001b[0m\n\u001b[1;31mIndentationError\u001b[0m\u001b[1;31m:\u001b[0m expected an indented block\n"
     ]
    }
   ],
   "source": [
    "\n",
    "#a\n",
    "import csv\n",
    "\n",
    "with open(r\"C:\\Users\\sebas\\Desktop\\bioinf\\CSB-master\\ejerciciopython\\mtcars.csv\") as file_name:\n",
    "    file_read = csv.reader(file_name)\n",
    "    row = list(file_read)\n",
    "lista1 = row[:11]\n",
    "print(lista1[4])\n",
    "#b\n",
    "import csv\n",
    "\n",
    "with open(r\"C:\\Users\\sebas\\Desktop\\bioinf\\CSB-master\\ejerciciopython\\mtcars.csv\") as file_name:\n",
    "file_read = csv.reader(file_name)\n",
    "\trow = list(file_read)\n",
    "lista1 = row[:11]\n",
    "print(lista1[2][5])\n",
    "#c\n",
    "import csv\n",
    "\n",
    "with open(r\"C:\\Users\\sebas\\Desktop\\bioinf\\CSB-master\\ejerciciopython\\mtcars.csv\") as file_name:\n",
    "file_read = csv.reader(file_name)\n",
    "\trow = list(file_read)\n",
    "lista1 = row[:11]\n",
    "lista1.append([\"gbi6\", \"bio1\", \"ikiam\"])\n",
    "print(lista1[-1][-3])\n",
    "#d\n",
    "import csv\n",
    "\n",
    "with open(r\"C:\\Users\\sebas\\Desktop\\bioinf\\CSB-master\\ejerciciopython\\mtcars.csv\") as file_name:\n",
    "file_read = csv.reader(file_name)\n",
    "\trow = list(file_read)\n",
    "lista1 = row[:11]\n",
    "print(lista1[3])\n",
    "#e\n",
    "import csv\n",
    "\n",
    "with open(r\"C:\\Users\\sebas\\Desktop\\bioinf\\CSB-master\\ejerciciopython\\mtcars.csv\") as file_name:\n",
    "file_read = csv.reader(file_name)\n",
    "\trow = list(file_read)\n",
    "lista1 = row[:11]\n",
    "lista1.append([\"gbi6\", \"bio1\", \"ikiam\"])\n",
    "print(len(lista1))\n",
    "\n"
   ]
  },
  {
   "cell_type": "markdown",
   "metadata": {},
   "source": [
    "## Ejercicio 9\n",
    "Crear un diccionario de nombre dic_genomas, donde se tenga la información de la tabla 1 que se encuentra en https://www.nature.com/scitable/topicpage/eukaryotic-genome-complexity-437/. \n",
    "Utilice como \"key\" los valores especie de la columna \"Species and Common Name\" y las otras dos columnas ingrese como \"values\". \n",
    "Luego de crear el diccionario, extraiga los valores de \"key\" a una lista de nombre \"especies\"\n",
    "Extraiga los valores de \"value\" a una lista de nombre \"genomas\"\n",
    "en este ejercicio se ingrese los datos de manera manual definiendo los campos de la mediante \"\" y , luego para demostar que esta bien se llama a la varaible definida. luego copie la carpeta y diferencie los datos por las funciones keys y values para cuando llamara la variable cogiera por serado los valores definidios por esos separadaores "
   ]
  },
  {
   "cell_type": "code",
   "execution_count": 17,
   "metadata": {},
   "outputs": [],
   "source": [
    "# \n",
    "dic_genomas = {\"Saccharomyces cerevisiae\": (\"12 million\", 6.000),\n",
    "                   \"Trichomonas vaginalis\": (\"160 million\", 60.000),\n",
    "                   \"Plasmodium falciparum\": (\"23 million\", 5.000),\n",
    "                   \"Caenorhabditis elegans\": (\"95.5 million\", 18.000),\n",
    "                   \"Drosophila melanogaster\": (\"170 million\", 14.000),\n",
    "                   \"Arabidopsis thaliana\":(\"125 million\", 25.000),\n",
    "                   \"Oryza sativa\": (\"470 million\", 51.000),\n",
    "                   \"Gallus gallus\": (\"1 billion\", 20.000-23.000),\n",
    "                   \"Canis familiaris\":(\"2.4 billion\", 19.000),\n",
    "                   \"Mus musculus\": (\"2.5 billion\", 30.000),\n",
    "                   \"Homo sapiens\": (\"2.9 billion\", 20000-25.000)}\n"
   ]
  },
  {
   "cell_type": "code",
   "execution_count": 19,
   "metadata": {},
   "outputs": [
    {
     "data": {
      "text/plain": [
       "{'Saccharomyces cerevisiae': ('12 million', 6.0),\n",
       " 'Trichomonas vaginalis': ('160 million', 60.0),\n",
       " 'Plasmodium falciparum': ('23 million', 5.0),\n",
       " 'Caenorhabditis elegans': ('95.5 million', 18.0),\n",
       " 'Drosophila melanogaster': ('170 million', 14.0),\n",
       " 'Arabidopsis thaliana': ('125 million', 25.0),\n",
       " 'Oryza sativa': ('470 million', 51.0),\n",
       " 'Gallus gallus': ('1 billion', -3.0),\n",
       " 'Canis familiaris': ('2.4 billion', 19.0),\n",
       " 'Mus musculus': ('2.5 billion', 30.0),\n",
       " 'Homo sapiens': ('2.9 billion', 19975.0)}"
      ]
     },
     "execution_count": 19,
     "metadata": {},
     "output_type": "execute_result"
    }
   ],
   "source": [
    "dic_genomas"
   ]
  },
  {
   "cell_type": "code",
   "execution_count": 23,
   "metadata": {},
   "outputs": [
    {
     "data": {
      "text/plain": [
       "{'Saccharomyces cerevisiae': ('12 million', 6.0),\n",
       " 'Trichomonas vaginalis': ('160 million', 60.0),\n",
       " 'Plasmodium falciparum': ('23 million', 5.0),\n",
       " 'Caenorhabditis elegans': ('95.5 million', 18.0),\n",
       " 'Drosophila melanogaster': ('170 million', 14.0),\n",
       " 'Arabidopsis thaliana': ('125 million', 25.0),\n",
       " 'Oryza sativa': ('470 million', 51.0),\n",
       " 'Gallus gallus': ('1 billion', -3.0),\n",
       " 'Canis familiaris': ('2.4 billion', 19.0),\n",
       " 'Mus musculus': ('2.5 billion', 30.0),\n",
       " 'Homo sapiens': ('2.9 billion', 19975.0)}"
      ]
     },
     "execution_count": 23,
     "metadata": {},
     "output_type": "execute_result"
    }
   ],
   "source": [
    "carpet = dic_genomas.copy()\n",
    "carpet"
   ]
  },
  {
   "cell_type": "code",
   "execution_count": 25,
   "metadata": {},
   "outputs": [
    {
     "data": {
      "text/plain": [
       "dict_keys(['Saccharomyces cerevisiae', 'Trichomonas vaginalis', 'Plasmodium falciparum', 'Caenorhabditis elegans', 'Drosophila melanogaster', 'Arabidopsis thaliana', 'Oryza sativa', 'Gallus gallus', 'Canis familiaris', 'Mus musculus', 'Homo sapiens'])"
      ]
     },
     "execution_count": 25,
     "metadata": {},
     "output_type": "execute_result"
    }
   ],
   "source": [
    "especie = GS.keys()\n",
    "especie"
   ]
  },
  {
   "cell_type": "code",
   "execution_count": 22,
   "metadata": {},
   "outputs": [
    {
     "data": {
      "text/plain": [
       "dict_values([('12 million', 6.0), ('160 million', 60.0), ('23 million', 5.0), ('95.5 million', 18.0), ('170 million', 14.0), ('125 million', 25.0), ('470 million', 51.0), ('1 billion', -3.0), ('2.4 billion', 19.0), ('2.5 billion', 30.0), ('2.9 billion', 19975.0)])"
      ]
     },
     "execution_count": 22,
     "metadata": {},
     "output_type": "execute_result"
    }
   ],
   "source": [
    "genomas = GS.values()\n",
    "genomas"
   ]
  },
  {
   "cell_type": "markdown",
   "metadata": {},
   "source": [
    "## Ejercicio 10\n",
    "\n",
    "Para este ejercicio debe debe realizar lo siguiente:\n",
    "\n",
    "Crear un diccionario de nombre dic_aminoacidos, donde se tenga la información de la tabla que se encuentra en http://www.russelllab.org/aas/aas.html. \n",
    "Utilice como \"key\" los valores de la columna \"AA\" y las columnas \"Hits\" y \"%Abundance\" como \"values\". \n",
    "Luego de crear el diccionario, extraiga los valores de \"key\" a una lista de nombre \"aminoacidos\"\n",
    "Extraiga los valores de \"value\" a una lista de nombre \"propiedades\"\n",
    "Para evaluar esta pregunta realice un git push del Jupyter Notebook al repositorio del examen. \n",
    "aqui como es un diccionario hay que separa por campos mediante los dos puntos que delimita mi dicionario y el resto para sus valores"
   ]
  },
  {
   "cell_type": "code",
   "execution_count": 32,
   "metadata": {},
   "outputs": [],
   "source": [
    "#\n",
    "dic_aminoacidos={\"AA\": [\"Hits\", \"Abundance\"],\n",
    "                 \"Trp\": [1550 , 1.34],\n",
    "                 \"Cys\": [1905, 1.76],\n",
    "                 \"His\": [1695, 2.26],\n",
    "                 \"Arg\": [3093, 5.20],\n",
    "                 \"Met\": [1102, 2.32],\n",
    "                 \"Tyr\": [1525, 3.25],\n",
    "                 \"Gln\": [1830, 3.96],\n",
    "                 \"Phe\": [1616, 4.12],\n",
    "                 \"Asp\": [1691, 5.12],\n",
    "                 \"Pro\": [1598, 5.00],\n",
    "                 \"Ala\": [2018, 7.34],\n",
    "                 \"Asn\": [1103, 4.57],\n",
    "                 \"Lys\": [1366, 5.81],\n",
    "                 \"Glu\": [1471, 6.22],\n",
    "                 \"Gly\": [1386, 6.89],\n",
    "                 \"Thr\": [1147, 5.85],\n",
    "                 \"Val\": [1225, 6.48],\n",
    "                 \"Lle\": [1033, 5.76],\n",
    "                 \"Ser\": [1266, 7.38],\n",
    "                 \"Leu\": [1127, 9.36]}\n",
    "        \n",
    "         "
   ]
  },
  {
   "cell_type": "code",
   "execution_count": 33,
   "metadata": {},
   "outputs": [
    {
     "data": {
      "text/plain": [
       "{'AA': ['Hits', 'Abundance'],\n",
       " 'Trp': [1550, 1.34],\n",
       " 'Cys': [1905, 1.76],\n",
       " 'His': [1695, 2.26],\n",
       " 'Arg': [3093, 5.2],\n",
       " 'Met': [1102, 2.32],\n",
       " 'Tyr': [1525, 3.25],\n",
       " 'Gln': [1830, 3.96],\n",
       " 'Phe': [1616, 4.12],\n",
       " 'Asp': [1691, 5.12],\n",
       " 'Pro': [1598, 5.0],\n",
       " 'Ala': [2018, 7.34],\n",
       " 'Asn': [1103, 4.57],\n",
       " 'Lys': [1366, 5.81],\n",
       " 'Glu': [1471, 6.22],\n",
       " 'Gly': [1386, 6.89],\n",
       " 'Thr': [1147, 5.85],\n",
       " 'Val': [1225, 6.48],\n",
       " 'Lle': [1033, 5.76],\n",
       " 'Ser': [1266, 7.38],\n",
       " 'Leu': [1127, 9.36]}"
      ]
     },
     "execution_count": 33,
     "metadata": {},
     "output_type": "execute_result"
    }
   ],
   "source": [
    "dic_aminoacidos"
   ]
  },
  {
   "cell_type": "code",
   "execution_count": 39,
   "metadata": {},
   "outputs": [
    {
     "data": {
      "text/plain": [
       "dict_keys(['AA', 'Trp', 'Cys', 'His', 'Arg', 'Met', 'Tyr', 'Gln', 'Phe', 'Asp', 'Pro', 'Ala', 'Asn', 'Lys', 'Glu', 'Gly', 'Thr', 'Val', 'Lle', 'Ser', 'Leu'])"
      ]
     },
     "execution_count": 39,
     "metadata": {},
     "output_type": "execute_result"
    }
   ],
   "source": [
    "aminoacidos = dic_aminoacidos.keys()\n",
    "aminoacidos"
   ]
  },
  {
   "cell_type": "code",
   "execution_count": 41,
   "metadata": {},
   "outputs": [
    {
     "data": {
      "text/plain": [
       "dict_values([['Hits', 'Abundance'], [1550, 1.34], [1905, 1.76], [1695, 2.26], [3093, 5.2], [1102, 2.32], [1525, 3.25], [1830, 3.96], [1616, 4.12], [1691, 5.12], [1598, 5.0], [2018, 7.34], [1103, 4.57], [1366, 5.81], [1471, 6.22], [1386, 6.89], [1147, 5.85], [1225, 6.48], [1033, 5.76], [1266, 7.38], [1127, 9.36]])"
      ]
     },
     "execution_count": 41,
     "metadata": {},
     "output_type": "execute_result"
    }
   ],
   "source": [
    "propiedades = dic_aminoacidos.values()\n",
    "propiedades\n"
   ]
  },
  {
   "cell_type": "code",
   "execution_count": null,
   "metadata": {},
   "outputs": [],
   "source": []
  }
 ],
 "metadata": {
  "kernelspec": {
   "display_name": "Python 3",
   "language": "python",
   "name": "python3"
  },
  "language_info": {
   "codemirror_mode": {
    "name": "ipython",
    "version": 3
   },
   "file_extension": ".py",
   "mimetype": "text/x-python",
   "name": "python",
   "nbconvert_exporter": "python",
   "pygments_lexer": "ipython3",
   "version": "3.8.8"
  },
  "latex_envs": {
   "LaTeX_envs_menu_present": true,
   "autoclose": false,
   "autocomplete": true,
   "bibliofile": "biblio.bib",
   "cite_by": "apalike",
   "current_citInitial": 1,
   "eqLabelWithNumbers": true,
   "eqNumInitial": 1,
   "hotkeys": {
    "equation": "Ctrl-E",
    "itemize": "Ctrl-I"
   },
   "labels_anchors": false,
   "latex_user_defs": false,
   "report_style_numbering": false,
   "user_envs_cfg": false
  },
  "toc": {
   "base_numbering": 1,
   "nav_menu": {},
   "number_sections": true,
   "sideBar": false,
   "skip_h1_title": false,
   "title_cell": "Table of Contents",
   "title_sidebar": "Contents",
   "toc_cell": false,
   "toc_position": {
    "height": "1152.67px",
    "left": "41px",
    "top": "110px",
    "width": "253.458px"
   },
   "toc_section_display": true,
   "toc_window_display": false
  },
  "varInspector": {
   "cols": {
    "lenName": 16,
    "lenType": 16,
    "lenVar": 40
   },
   "kernels_config": {
    "python": {
     "delete_cmd_postfix": "",
     "delete_cmd_prefix": "del ",
     "library": "var_list.py",
     "varRefreshCmd": "print(var_dic_list())"
    },
    "r": {
     "delete_cmd_postfix": ") ",
     "delete_cmd_prefix": "rm(",
     "library": "var_list.r",
     "varRefreshCmd": "cat(var_dic_list()) "
    }
   },
   "types_to_exclude": [
    "module",
    "function",
    "builtin_function_or_method",
    "instance",
    "_Feature"
   ],
   "window_display": false
  }
 },
 "nbformat": 4,
 "nbformat_minor": 4
}
